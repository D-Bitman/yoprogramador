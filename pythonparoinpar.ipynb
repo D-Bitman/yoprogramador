{
  "nbformat": 4,
  "nbformat_minor": 0,
  "metadata": {
    "colab": {
      "provenance": [],
      "authorship_tag": "ABX9TyMtWCm+uOLDt3HV7PS935M9",
      "include_colab_link": true
    },
    "kernelspec": {
      "name": "python3",
      "display_name": "Python 3"
    },
    "language_info": {
      "name": "python"
    }
  },
  "cells": [
    {
      "cell_type": "markdown",
      "metadata": {
        "id": "view-in-github",
        "colab_type": "text"
      },
      "source": [
        "<a href=\"https://colab.research.google.com/github/D-Bitman/yoprogramador/blob/main/pythonparoinpar.ipynb\" target=\"_parent\"><img src=\"https://colab.research.google.com/assets/colab-badge.svg\" alt=\"Open In Colab\"/></a>"
      ]
    },
    {
      "cell_type": "code",
      "execution_count": null,
      "metadata": {
        "colab": {
          "base_uri": "https://localhost:8080/"
        },
        "id": "7xR9HIpxGmV-",
        "outputId": "d1e43048-8e52-4da3-d6c5-2783a3ed1d84"
      },
      "outputs": [
        {
          "output_type": "stream",
          "name": "stdout",
          "text": [
            "enter a number:6\n",
            "6 is Even\n"
          ]
        }
      ],
      "source": [
        "def is_even(n):\n",
        "    if n == 0:\n",
        "       return True\n",
        "    elif n == 1:\n",
        "       return False\n",
        "    else:\n",
        "       return is_even(n - 2)\n",
        "num = int(input(\"enter a number:\"))\n",
        "if is_even(abs(num)):\n",
        "   print(f\"{num} is Even\")\n",
        "else:\n",
        "   print(f\"{num} is Odd\")"
      ]
    }
  ]
}